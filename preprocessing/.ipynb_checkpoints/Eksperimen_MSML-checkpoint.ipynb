{
 "cells": [
  {
   "cell_type": "markdown",
   "metadata": {
    "id": "kZLRMFl0JyyQ"
   },
   "source": [
    "# **1. Perkenalan Dataset**\n"
   ]
  },
  {
   "cell_type": "markdown",
   "metadata": {
    "id": "hssSDn-5n3HR"
   },
   "source": [
    "\n",
    "1. **Sumber Dataset**:  \n",
    "    Sumber dataset merupakan data primer dari kredit pinjaman yang dikumpulkan secara mandiri.\n"
   ]
  },
  {
   "cell_type": "markdown",
   "metadata": {
    "id": "fKADPWcFKlj3"
   },
   "source": [
    "# **2. Import Library**"
   ]
  },
  {
   "cell_type": "markdown",
   "metadata": {
    "id": "LgA3ERnVn84N"
   },
   "source": [
    "Pada tahap ini, Anda perlu mengimpor beberapa pustaka (library) Python yang dibutuhkan untuk analisis data dan pembangunan model machine learning atau deep learning."
   ]
  },
  {
   "cell_type": "code",
   "execution_count": 3,
   "metadata": {},
   "outputs": [
    {
     "name": "stdout",
     "output_type": "stream",
     "text": [
      "Requirement already satisfied: pandas in /Users/agusprasetyo/.pyenv/versions/3.12.10/lib/python3.12/site-packages (2.3.0)\n",
      "Requirement already satisfied: numpy in /Users/agusprasetyo/.pyenv/versions/3.12.10/lib/python3.12/site-packages (2.2.6)\n",
      "Requirement already satisfied: scikit-learn in /Users/agusprasetyo/.pyenv/versions/3.12.10/lib/python3.12/site-packages (1.6.1)\n",
      "Requirement already satisfied: matplotlib in /Users/agusprasetyo/.pyenv/versions/3.12.10/lib/python3.12/site-packages (3.10.3)\n",
      "Requirement already satisfied: seaborn in /Users/agusprasetyo/.pyenv/versions/3.12.10/lib/python3.12/site-packages (0.13.2)\n",
      "Requirement already satisfied: scipy in /Users/agusprasetyo/.pyenv/versions/3.12.10/lib/python3.12/site-packages (1.15.3)\n",
      "Requirement already satisfied: python-dateutil>=2.8.2 in /Users/agusprasetyo/.pyenv/versions/3.12.10/lib/python3.12/site-packages (from pandas) (2.9.0.post0)\n",
      "Requirement already satisfied: pytz>=2020.1 in /Users/agusprasetyo/.pyenv/versions/3.12.10/lib/python3.12/site-packages (from pandas) (2025.2)\n",
      "Requirement already satisfied: tzdata>=2022.7 in /Users/agusprasetyo/.pyenv/versions/3.12.10/lib/python3.12/site-packages (from pandas) (2025.2)\n",
      "Requirement already satisfied: joblib>=1.2.0 in /Users/agusprasetyo/.pyenv/versions/3.12.10/lib/python3.12/site-packages (from scikit-learn) (1.5.1)\n",
      "Requirement already satisfied: threadpoolctl>=3.1.0 in /Users/agusprasetyo/.pyenv/versions/3.12.10/lib/python3.12/site-packages (from scikit-learn) (3.6.0)\n",
      "Requirement already satisfied: contourpy>=1.0.1 in /Users/agusprasetyo/.pyenv/versions/3.12.10/lib/python3.12/site-packages (from matplotlib) (1.3.2)\n",
      "Requirement already satisfied: cycler>=0.10 in /Users/agusprasetyo/.pyenv/versions/3.12.10/lib/python3.12/site-packages (from matplotlib) (0.12.1)\n",
      "Requirement already satisfied: fonttools>=4.22.0 in /Users/agusprasetyo/.pyenv/versions/3.12.10/lib/python3.12/site-packages (from matplotlib) (4.58.1)\n",
      "Requirement already satisfied: kiwisolver>=1.3.1 in /Users/agusprasetyo/.pyenv/versions/3.12.10/lib/python3.12/site-packages (from matplotlib) (1.4.8)\n",
      "Requirement already satisfied: packaging>=20.0 in /Users/agusprasetyo/.pyenv/versions/3.12.10/lib/python3.12/site-packages (from matplotlib) (24.2)\n",
      "Requirement already satisfied: pillow>=8 in /Users/agusprasetyo/.pyenv/versions/3.12.10/lib/python3.12/site-packages (from matplotlib) (11.2.1)\n",
      "Requirement already satisfied: pyparsing>=2.3.1 in /Users/agusprasetyo/.pyenv/versions/3.12.10/lib/python3.12/site-packages (from matplotlib) (3.2.3)\n",
      "Requirement already satisfied: six>=1.5 in /Users/agusprasetyo/.pyenv/versions/3.12.10/lib/python3.12/site-packages (from python-dateutil>=2.8.2->pandas) (1.17.0)\n",
      "\n",
      "\u001b[1m[\u001b[0m\u001b[34;49mnotice\u001b[0m\u001b[1;39;49m]\u001b[0m\u001b[39;49m A new release of pip is available: \u001b[0m\u001b[31;49m25.0.1\u001b[0m\u001b[39;49m -> \u001b[0m\u001b[32;49m25.1.1\u001b[0m\n",
      "\u001b[1m[\u001b[0m\u001b[34;49mnotice\u001b[0m\u001b[1;39;49m]\u001b[0m\u001b[39;49m To update, run: \u001b[0m\u001b[32;49mpip install --upgrade pip\u001b[0m\n"
     ]
    }
   ],
   "source": [
    "!pip install pandas numpy scikit-learn matplotlib seaborn scipy"
   ]
  },
  {
   "cell_type": "code",
   "execution_count": 22,
   "metadata": {
    "id": "BlmvjLY9M4Yj"
   },
   "outputs": [
    {
     "name": "stdout",
     "output_type": "stream",
     "text": [
      "Libraries imported successfully!\n"
     ]
    }
   ],
   "source": [
    "# Import required libraries\n",
    "import pandas as pd\n",
    "import numpy as np\n",
    "import matplotlib.pyplot as plt\n",
    "import seaborn as sns\n",
    "from sklearn.preprocessing import StandardScaler, LabelEncoder\n",
    "from sklearn.model_selection import train_test_split\n",
    "from sklearn.feature_extraction.text import TfidfVectorizer\n",
    "from sklearn.metrics.pairwise import cosine_similarity\n",
    "from sklearn.model_selection import train_test_split\n",
    "from sklearn.metrics import mean_squared_error\n",
    "from scipy.sparse import csr_matrix\n",
    "from scipy.spatial.distance import cosine\n",
    "import warnings\n",
    "warnings.filterwarnings('ignore')\n",
    "\n",
    "# Set display options\n",
    "pd.set_option('display.max_columns', None)\n",
    "pd.set_option('display.width', 1000)\n",
    "\n",
    "# Plot settings\n",
    "plt.style.use('default')\n",
    "sns.set_palette(\"husl\")\n",
    "\n",
    "print(\"Libraries imported successfully!\")"
   ]
  },
  {
   "cell_type": "markdown",
   "metadata": {
    "id": "f3YIEnAFKrKL"
   },
   "source": [
    "# **3. Memuat Dataset**"
   ]
  },
  {
   "cell_type": "markdown",
   "metadata": {
    "id": "Ey3ItwTen_7E"
   },
   "source": [
    "Pada tahap ini, Anda perlu memuat dataset ke dalam notebook. Jika dataset dalam format CSV, Anda bisa menggunakan pustaka pandas untuk membacanya. Pastikan untuk mengecek beberapa baris awal dataset untuk memahami strukturnya dan memastikan data telah dimuat dengan benar.\n",
    "\n",
    "Jika dataset berada di Google Drive, pastikan Anda menghubungkan Google Drive ke Colab terlebih dahulu. Setelah dataset berhasil dimuat, langkah berikutnya adalah memeriksa kesesuaian data dan siap untuk dianalisis lebih lanjut.\n",
    "\n",
    "Jika dataset berupa unstructured data, silakan sesuaikan dengan format seperti kelas Machine Learning Pengembangan atau Machine Learning Terapan"
   ]
  },
  {
   "cell_type": "code",
   "execution_count": 6,
   "metadata": {
    "id": "GHCGNTyrM5fS"
   },
   "outputs": [
    {
     "data": {
      "text/html": [
       "<div>\n",
       "<style scoped>\n",
       "    .dataframe tbody tr th:only-of-type {\n",
       "        vertical-align: middle;\n",
       "    }\n",
       "\n",
       "    .dataframe tbody tr th {\n",
       "        vertical-align: top;\n",
       "    }\n",
       "\n",
       "    .dataframe thead th {\n",
       "        text-align: right;\n",
       "    }\n",
       "</style>\n",
       "<table border=\"1\" class=\"dataframe\">\n",
       "  <thead>\n",
       "    <tr style=\"text-align: right;\">\n",
       "      <th></th>\n",
       "      <th>umur</th>\n",
       "      <th>pekerjaan</th>\n",
       "      <th>pendapatan</th>\n",
       "      <th>skor_kredit</th>\n",
       "      <th>jumlah_pinjaman</th>\n",
       "      <th>disetujui</th>\n",
       "    </tr>\n",
       "  </thead>\n",
       "  <tbody>\n",
       "    <tr>\n",
       "      <th>0</th>\n",
       "      <td>41</td>\n",
       "      <td>Kontrak</td>\n",
       "      <td>9998439</td>\n",
       "      <td>628</td>\n",
       "      <td>14600690</td>\n",
       "      <td>Ya</td>\n",
       "    </tr>\n",
       "    <tr>\n",
       "      <th>1</th>\n",
       "      <td>42</td>\n",
       "      <td>Tetap</td>\n",
       "      <td>8784501</td>\n",
       "      <td>762</td>\n",
       "      <td>23143652</td>\n",
       "      <td>Ya</td>\n",
       "    </tr>\n",
       "    <tr>\n",
       "      <th>2</th>\n",
       "      <td>44</td>\n",
       "      <td>Tetap</td>\n",
       "      <td>9785351</td>\n",
       "      <td>773</td>\n",
       "      <td>24695135</td>\n",
       "      <td>Ya</td>\n",
       "    </tr>\n",
       "    <tr>\n",
       "      <th>3</th>\n",
       "      <td>23</td>\n",
       "      <td>Tetap</td>\n",
       "      <td>7000317</td>\n",
       "      <td>822</td>\n",
       "      <td>33480911</td>\n",
       "      <td>Tidak</td>\n",
       "    </tr>\n",
       "    <tr>\n",
       "      <th>4</th>\n",
       "      <td>54</td>\n",
       "      <td>Freelance</td>\n",
       "      <td>3520356</td>\n",
       "      <td>685</td>\n",
       "      <td>18870027</td>\n",
       "      <td>Tidak</td>\n",
       "    </tr>\n",
       "  </tbody>\n",
       "</table>\n",
       "</div>"
      ],
      "text/plain": [
       "   umur  pekerjaan  pendapatan  skor_kredit  jumlah_pinjaman disetujui\n",
       "0    41    Kontrak     9998439          628         14600690        Ya\n",
       "1    42      Tetap     8784501          762         23143652        Ya\n",
       "2    44      Tetap     9785351          773         24695135        Ya\n",
       "3    23      Tetap     7000317          822         33480911     Tidak\n",
       "4    54  Freelance     3520356          685         18870027     Tidak"
      ]
     },
     "execution_count": 6,
     "metadata": {},
     "output_type": "execute_result"
    }
   ],
   "source": [
    "# Load data\n",
    "\n",
    "df = pd.read_csv('../dataset_kredit_pinjaman.csv')\n",
    "df.head()"
   ]
  },
  {
   "cell_type": "markdown",
   "metadata": {
    "id": "bgZkbJLpK9UR"
   },
   "source": [
    "# **4. Exploratory Data Analysis (EDA)**\n",
    "\n",
    "Pada tahap ini, Anda akan melakukan **Exploratory Data Analysis (EDA)** untuk memahami karakteristik dataset.\n",
    "\n",
    "Tujuan dari EDA adalah untuk memperoleh wawasan awal yang mendalam mengenai data dan menentukan langkah selanjutnya dalam analisis atau pemodelan."
   ]
  },
  {
   "cell_type": "markdown",
   "metadata": {},
   "source": [
    "### 1. OVERVIEW DATASET"
   ]
  },
  {
   "cell_type": "markdown",
   "metadata": {},
   "source": [
    "Melihat overview Dataset untuk mengetahui jumlah baris, kolom, dan tipe data"
   ]
  },
  {
   "cell_type": "code",
   "execution_count": 7,
   "metadata": {},
   "outputs": [
    {
     "name": "stdout",
     "output_type": "stream",
     "text": [
      "========================================\n",
      "OVERVIEW DATASET\n",
      "========================================\n",
      "Jumlah baris: 500\n",
      "Jumlah kolom: 6\n",
      "Kolom: ['umur', 'pekerjaan', 'pendapatan', 'skor_kredit', 'jumlah_pinjaman', 'disetujui']\n",
      "\n",
      "5 Data Pertama:\n",
      "   umur  pekerjaan  pendapatan  skor_kredit  jumlah_pinjaman disetujui\n",
      "0    41    Kontrak     9998439          628         14600690        Ya\n",
      "1    42      Tetap     8784501          762         23143652        Ya\n",
      "2    44      Tetap     9785351          773         24695135        Ya\n",
      "3    23      Tetap     7000317          822         33480911     Tidak\n",
      "4    54  Freelance     3520356          685         18870027     Tidak\n",
      "\n",
      "Tipe Data:\n",
      "umur                int64\n",
      "pekerjaan          object\n",
      "pendapatan          int64\n",
      "skor_kredit         int64\n",
      "jumlah_pinjaman     int64\n",
      "disetujui          object\n",
      "dtype: object\n"
     ]
    }
   ],
   "source": [
    "# ==========================================\n",
    "# 1. OVERVIEW DATASET\n",
    "# ==========================================\n",
    "\n",
    "print(\"=\"*40)\n",
    "print(\"OVERVIEW DATASET\")\n",
    "print(\"=\"*40)\n",
    "\n",
    "print(f\"Jumlah baris: {df.shape[0]}\")\n",
    "print(f\"Jumlah kolom: {df.shape[1]}\")\n",
    "print(f\"Kolom: {list(df.columns)}\")\n",
    "\n",
    "print(\"\\n5 Data Pertama:\")\n",
    "print(df.head())\n",
    "\n",
    "print(\"\\nTipe Data:\")\n",
    "print(df.dtypes)"
   ]
  },
  {
   "cell_type": "markdown",
   "metadata": {},
   "source": [
    "### 2. STATISTIK DESKRIPTIF SEDERHANA"
   ]
  },
  {
   "cell_type": "markdown",
   "metadata": {},
   "source": [
    "Tahap ini digunakan untuk menampilkan statistik deskriptif dari dataset, yang mencakup ringkasan statistik untuk kolom numerik seperti umur, pendapatan, skor kredit, dan jumlah pinjaman, serta distribusi frekuensi untuk kolom kategorikal seperti jenis pekerjaan dan status persetujuan pinjaman. \n",
    "\n",
    "Tujuannya adalah untuk memberikan gambaran awal mengenai karakteristik data dan memastikan tidak ada ketidakseimbangan atau kejanggalan sebelum masuk ke tahap pemodelan."
   ]
  },
  {
   "cell_type": "code",
   "execution_count": 8,
   "metadata": {},
   "outputs": [
    {
     "name": "stdout",
     "output_type": "stream",
     "text": [
      "\n",
      "========================================\n",
      "STATISTIK DESKRIPTIF\n",
      "========================================\n",
      "Statistik Numerik:\n",
      "             umur    pendapatan  skor_kredit  jumlah_pinjaman\n",
      "count  500.000000  5.000000e+02   500.000000     5.000000e+02\n",
      "mean    40.758000  1.133932e+07   674.922000     3.408069e+07\n",
      "std     11.714003  5.158911e+06    85.532002     1.383336e+07\n",
      "min     21.000000  3.026221e+06   501.000000     1.048653e+07\n",
      "25%     31.000000  6.509413e+06   613.000000     2.252226e+07\n",
      "50%     41.000000  1.121313e+07   674.000000     3.378527e+07\n",
      "75%     51.000000  1.561205e+07   730.250000     4.518288e+07\n",
      "max     60.000000  1.999083e+07   850.000000     5.979898e+07\n",
      "\n",
      "Distribusi Pekerjaan:\n",
      "pekerjaan\n",
      "Freelance    182\n",
      "Kontrak      166\n",
      "Tetap        152\n",
      "Name: count, dtype: int64\n",
      "\n",
      "Distribusi Status Persetujuan:\n",
      "disetujui\n",
      "Ya       254\n",
      "Tidak    246\n",
      "Name: count, dtype: int64\n"
     ]
    }
   ],
   "source": [
    "print(\"\\n\" + \"=\"*40)\n",
    "print(\"STATISTIK DESKRIPTIF\")\n",
    "print(\"=\"*40)\n",
    "\n",
    "# Untuk kolom numerik\n",
    "print(\"Statistik Numerik:\")\n",
    "print(df.describe())\n",
    "\n",
    "# Untuk kolom kategorikal\n",
    "print(\"\\nDistribusi Pekerjaan:\")\n",
    "print(df['pekerjaan'].value_counts())\n",
    "\n",
    "print(\"\\nDistribusi Status Persetujuan:\")\n",
    "print(df['disetujui'].value_counts())"
   ]
  },
  {
   "cell_type": "markdown",
   "metadata": {},
   "source": [
    "### 3. VISUALISASI SEDERHANA"
   ]
  },
  {
   "cell_type": "markdown",
   "metadata": {},
   "source": [
    "Tahap ini digunakan untuk membuat visualisasi eksploratif sederhana terhadap data kredit pinjaman guna memahami distribusi setiap fitur secara visual. Visualisasi mencakup histogram untuk fitur numerik seperti umur, pendapatan, skor kredit, dan jumlah pinjaman, serta diagram batang untuk fitur kategorikal seperti jenis pekerjaan dan status persetujuan pinjaman. Dengan visualisasi ini, \n",
    "\n",
    "kita dapat dengan cepat mengidentifikasi pola distribusi, ketidakseimbangan kategori, dan potensi outlier yang mungkin memengaruhi proses pelatihan model machine learning."
   ]
  },
  {
   "cell_type": "code",
   "execution_count": 9,
   "metadata": {},
   "outputs": [
    {
     "name": "stdout",
     "output_type": "stream",
     "text": [
      "\n",
      "========================================\n",
      "MEMBUAT VISUALISASI SEDERHANA\n",
      "========================================\n"
     ]
    },
    {
     "data": {
      "image/png": "[encoded data removed]",
      "text/plain": [
       "<Figure size 1500x1000 with 6 Axes>"
      ]
     },
     "metadata": {},
     "output_type": "display_data"
    }
   ],
   "source": [
    "\n",
    "print(\"\\n\" + \"=\"*40)\n",
    "print(\"MEMBUAT VISUALISASI SEDERHANA\")\n",
    "print(\"=\"*40)\n",
    "\n",
    "# Create subplots\n",
    "fig, axes = plt.subplots(2, 3, figsize=(15, 10))\n",
    "fig.suptitle('Eksplorasi Data Kredit Pinjaman', fontsize=16, fontweight='bold')\n",
    "\n",
    "# 1. Distribusi Umur\n",
    "axes[0,0].hist(df['umur'], bins=20, color='skyblue', alpha=0.7, edgecolor='black')\n",
    "axes[0,0].set_title('Distribusi Umur')\n",
    "axes[0,0].set_xlabel('Umur')\n",
    "axes[0,0].set_ylabel('Frekuensi')\n",
    "\n",
    "# 2. Distribusi Pendapatan\n",
    "axes[0,1].hist(df['pendapatan'], bins=20, color='lightgreen', alpha=0.7, edgecolor='black')\n",
    "axes[0,1].set_title('Distribusi Pendapatan')\n",
    "axes[0,1].set_xlabel('Pendapatan')\n",
    "axes[0,1].set_ylabel('Frekuensi')\n",
    "\n",
    "# 3. Distribusi Skor Kredit\n",
    "axes[0,2].hist(df['skor_kredit'], bins=20, color='orange', alpha=0.7, edgecolor='black')\n",
    "axes[0,2].set_title('Distribusi Skor Kredit')\n",
    "axes[0,2].set_xlabel('Skor Kredit')\n",
    "axes[0,2].set_ylabel('Frekuensi')\n",
    "\n",
    "# 4. Distribusi Jumlah Pinjaman\n",
    "axes[1,0].hist(df['jumlah_pinjaman'], bins=20, color='pink', alpha=0.7, edgecolor='black')\n",
    "axes[1,0].set_title('Distribusi Jumlah Pinjaman')\n",
    "axes[1,0].set_xlabel('Jumlah Pinjaman')\n",
    "axes[1,0].set_ylabel('Frekuensi')\n",
    "\n",
    "# 5. Distribusi Pekerjaan\n",
    "job_counts = df['pekerjaan'].value_counts()\n",
    "axes[1,1].bar(job_counts.index, job_counts.values, color='lightcoral')\n",
    "axes[1,1].set_title('Distribusi Pekerjaan')\n",
    "axes[1,1].set_xlabel('Pekerjaan')\n",
    "axes[1,1].set_ylabel('Jumlah')\n",
    "axes[1,1].tick_params(axis='x', rotation=45)\n",
    "\n",
    "# 6. Distribusi Status Persetujuan\n",
    "approval_counts = df['disetujui'].value_counts()\n",
    "colors = ['lightgreen' if x == 'Ya' else 'lightcoral' for x in approval_counts.index]\n",
    "axes[1,2].bar(approval_counts.index, approval_counts.values, color=colors)\n",
    "axes[1,2].set_title('Status Persetujuan Pinjaman')\n",
    "axes[1,2].set_xlabel('Status')\n",
    "axes[1,2].set_ylabel('Jumlah')\n",
    "\n",
    "plt.tight_layout()\n",
    "plt.show()"
   ]
  },
  {
   "cell_type": "markdown",
   "metadata": {},
   "source": [
    "### 4. ANALISIS HUBUNGAN SEDERHANA"
   ]
  },
  {
   "cell_type": "markdown",
   "metadata": {},
   "source": [
    "Tahap ini digunakan untuk menganalisis hubungan sederhana antara jenis pekerjaan dan status persetujuan pinjaman. Pertama, ditampilkan tabel silang untuk melihat jumlah pinjaman yang disetujui dan tidak disetujui berdasarkan kategori pekerjaan. Selanjutnya, dihitung persentase persetujuan untuk tiap jenis pekerjaan guna mengetahui kelompok mana yang memiliki tingkat persetujuan pinjaman lebih tinggi. Analisis ini membantu mengidentifikasi pola atau kecenderungan dalam keputusan pinjaman berdasarkan latar belakang pekerjaan pemohon."
   ]
  },
  {
   "cell_type": "code",
   "execution_count": 10,
   "metadata": {},
   "outputs": [
    {
     "name": "stdout",
     "output_type": "stream",
     "text": [
      "\n",
      "========================================\n",
      "ANALISIS HUBUNGAN SEDERHANA\n",
      "========================================\n",
      "Tabel Silang: Pekerjaan vs Status Persetujuan\n",
      "disetujui  Tidak   Ya\n",
      "pekerjaan            \n",
      "Freelance    116   66\n",
      "Kontrak       87   79\n",
      "Tetap         43  109\n",
      "\n",
      "Persentase Persetujuan per Pekerjaan:\n",
      "Freelance: 36.3%\n",
      "Kontrak: 47.6%\n",
      "Tetap: 71.7%\n"
     ]
    }
   ],
   "source": [
    "print(\"\\n\" + \"=\"*40)\n",
    "print(\"ANALISIS HUBUNGAN SEDERHANA\")\n",
    "print(\"=\"*40)\n",
    "\n",
    "# Tabel silang sederhana\n",
    "print(\"Tabel Silang: Pekerjaan vs Status Persetujuan\")\n",
    "crosstab = pd.crosstab(df['pekerjaan'], df['disetujui'])\n",
    "print(crosstab)\n",
    "\n",
    "# Persentase persetujuan per pekerjaan\n",
    "print(\"\\nPersentase Persetujuan per Pekerjaan:\")\n",
    "approval_rate = df.groupby('pekerjaan')['disetujui'].apply(lambda x: (x == 'Ya').mean() * 100)\n",
    "for job, rate in approval_rate.items():\n",
    "    print(f\"{job}: {rate:.1f}%\")"
   ]
  },
  {
   "cell_type": "markdown",
   "metadata": {},
   "source": [
    "### 5. PERBANDINGAN RATA-RATA SEDERHANA"
   ]
  },
  {
   "cell_type": "markdown",
   "metadata": {},
   "source": [
    "Tahap ini digunakan untuk membandingkan nilai rata-rata beberapa fitur numerik antara pemohon yang pinjamannya disetujui dan yang ditolak. Fitur yang dibandingkan meliputi umur, pendapatan, skor kredit, dan jumlah pinjaman. Hasil analisis ini memberikan gambaran karakteristik umum dari masing-masing kelompok, misalnya apakah pemohon yang disetujui cenderung memiliki skor kredit atau pendapatan lebih tinggi dibanding yang ditolak. Informasi ini sangat berguna dalam memahami faktor-faktor yang memengaruhi keputusan persetujuan pinjaman."
   ]
  },
  {
   "cell_type": "code",
   "execution_count": 11,
   "metadata": {},
   "outputs": [
    {
     "name": "stdout",
     "output_type": "stream",
     "text": [
      "\n",
      "========================================\n",
      "PERBANDINGAN RATA-RATA\n",
      "========================================\n",
      "Rata-rata untuk Pinjaman DISETUJUI:\n",
      "  Umur: 40.9 tahun\n",
      "  Pendapatan: Rp 12,961,775\n",
      "  Skor Kredit: 701.6\n",
      "  Jumlah Pinjaman: Rp 33,938,264\n",
      "\n",
      "Rata-rata untuk Pinjaman DITOLAK:\n",
      "  Umur: 40.6 tahun\n",
      "  Pendapatan: Rp 9,664,101\n",
      "  Skor Kredit: 647.4\n",
      "  Jumlah Pinjaman: Rp 34,227,740\n"
     ]
    }
   ],
   "source": [
    "print(\"\\n\" + \"=\"*40)\n",
    "print(\"PERBANDINGAN RATA-RATA\")\n",
    "print(\"=\"*40)\n",
    "\n",
    "# Rata-rata untuk yang disetujui vs ditolak\n",
    "approved = df[df['disetujui'] == 'Ya']\n",
    "rejected = df[df['disetujui'] == 'Tidak']\n",
    "\n",
    "print(\"Rata-rata untuk Pinjaman DISETUJUI:\")\n",
    "print(f\"  Umur: {approved['umur'].mean():.1f} tahun\")\n",
    "print(f\"  Pendapatan: Rp {approved['pendapatan'].mean():,.0f}\")\n",
    "print(f\"  Skor Kredit: {approved['skor_kredit'].mean():.1f}\")\n",
    "print(f\"  Jumlah Pinjaman: Rp {approved['jumlah_pinjaman'].mean():,.0f}\")\n",
    "\n",
    "print(\"\\nRata-rata untuk Pinjaman DITOLAK:\")\n",
    "print(f\"  Umur: {rejected['umur'].mean():.1f} tahun\")\n",
    "print(f\"  Pendapatan: Rp {rejected['pendapatan'].mean():,.0f}\")\n",
    "print(f\"  Skor Kredit: {rejected['skor_kredit'].mean():.1f}\")\n",
    "print(f\"  Jumlah Pinjaman: Rp {rejected['jumlah_pinjaman'].mean():,.0f}\")"
   ]
  },
  {
   "cell_type": "markdown",
   "metadata": {},
   "source": [
    "### 6. GRAFIK PERBANDINGAN"
   ]
  },
  {
   "cell_type": "code",
   "execution_count": 12,
   "metadata": {},
   "outputs": [
    {
     "data": {
      "image/png": "[encoded data removed]",
      "text/plain": [
       "<Figure size 1400x500 with 2 Axes>"
      ]
     },
     "metadata": {},
     "output_type": "display_data"
    }
   ],
   "source": [
    "# Membuat grafik perbandingan sederhana\n",
    "fig, axes = plt.subplots(1, 2, figsize=(14, 5))\n",
    "\n",
    "# Perbandingan rata-rata dalam bar chart\n",
    "variables = ['Umur', 'Pendapatan', 'Skor Kredit', 'Jumlah Pinjaman']\n",
    "approved_means = [approved['umur'].mean(), \n",
    "                 approved['pendapatan'].mean()/1000000,  # dalam jutaan\n",
    "                 approved['skor_kredit'].mean(), \n",
    "                 approved['jumlah_pinjaman'].mean()/1000000]  # dalam jutaan\n",
    "\n",
    "rejected_means = [rejected['umur'].mean(), \n",
    "                 rejected['pendapatan'].mean()/1000000,  # dalam jutaan\n",
    "                 rejected['skor_kredit'].mean(), \n",
    "                 rejected['jumlah_pinjaman'].mean()/1000000]  # dalam jutaan\n",
    "\n",
    "x = np.arange(len(variables))\n",
    "width = 0.35\n",
    "\n",
    "axes[0].bar(x - width/2, approved_means, width, label='Disetujui', color='lightgreen', alpha=0.8)\n",
    "axes[0].bar(x + width/2, rejected_means, width, label='Ditolak', color='lightcoral', alpha=0.8)\n",
    "axes[0].set_xlabel('Variabel')\n",
    "axes[0].set_ylabel('Nilai Rata-rata')\n",
    "axes[0].set_title('Perbandingan Rata-rata: Disetujui vs Ditolak')\n",
    "axes[0].set_xticks(x)\n",
    "axes[0].set_xticklabels(['Umur', 'Pendapatan\\n(Juta)', 'Skor Kredit', 'Pinjaman\\n(Juta)'])\n",
    "axes[0].legend()\n",
    "\n",
    "# Pie chart untuk proporsi persetujuan\n",
    "approval_counts = df['disetujui'].value_counts()\n",
    "colors = ['lightgreen', 'lightcoral']\n",
    "axes[1].pie(approval_counts.values, labels=approval_counts.index, \n",
    "           colors=colors, autopct='%1.1f%%', startangle=90)\n",
    "axes[1].set_title('Proporsi Status Persetujuan')\n",
    "\n",
    "plt.tight_layout()\n",
    "plt.show()\n"
   ]
  },
  {
   "cell_type": "markdown",
   "metadata": {},
   "source": [
    "### 7. RANGKUMAN TEMUAN AWAL"
   ]
  },
  {
   "cell_type": "code",
   "execution_count": 13,
   "metadata": {},
   "outputs": [
    {
     "name": "stdout",
     "output_type": "stream",
     "text": [
      "\n",
      "========================================\n",
      "RANGKUMAN TEMUAN AWAL\n",
      "========================================\n",
      "1. DATASET OVERVIEW:\n",
      "   - Total data: 500 record\n",
      "   - Disetujui: 254 (50.8%)\n",
      "   - Ditolak: 246 (49.2%)\n",
      "\n",
      "2. PERBEDAAN UTAMA (Disetujui vs Ditolak):\n",
      "   - Umur: 40.9 vs 40.6 tahun\n",
      "   - Pendapatan: 13.0 vs 9.7 juta\n",
      "   - Skor Kredit: 702 vs 647\n",
      "\n",
      "3. BERDASARKAN PEKERJAAN:\n",
      "   - Approval rate tertinggi: Tetap (71.7%)\n",
      "   - Approval rate terendah: Freelance (36.3%)\n",
      "\n",
      "4. INSIGHT AWAL:\n",
      "   - Skor kredit tampak berpengaruh terhadap persetujuan\n",
      "   - Pendapatan lebih tinggi cenderung lebih disetujui\n",
      "\n",
      "5. LANGKAH SELANJUTNYA:\n",
      "   - Analisis korelasi antar variabel\n",
      "   - Preprocessing data (handling outlier, scaling)\n",
      "   - Feature engineering\n",
      "   - Modeling untuk prediksi\n"
     ]
    }
   ],
   "source": [
    "print(\"\\n\" + \"=\"*40)\n",
    "print(\"RANGKUMAN TEMUAN AWAL\")\n",
    "print(\"=\"*40)\n",
    "\n",
    "total_data = len(df)\n",
    "total_approved = len(approved)\n",
    "total_rejected = len(rejected)\n",
    "\n",
    "print(f\"1. DATASET OVERVIEW:\")\n",
    "print(f\"   - Total data: {total_data} record\")\n",
    "print(f\"   - Disetujui: {total_approved} ({total_approved/total_data*100:.1f}%)\")\n",
    "print(f\"   - Ditolak: {total_rejected} ({total_rejected/total_data*100:.1f}%)\")\n",
    "\n",
    "print(f\"\\n2. PERBEDAAN UTAMA (Disetujui vs Ditolak):\")\n",
    "print(f\"   - Umur: {approved['umur'].mean():.1f} vs {rejected['umur'].mean():.1f} tahun\")\n",
    "print(f\"   - Pendapatan: {approved['pendapatan'].mean()/1000000:.1f} vs {rejected['pendapatan'].mean()/1000000:.1f} juta\")\n",
    "print(f\"   - Skor Kredit: {approved['skor_kredit'].mean():.0f} vs {rejected['skor_kredit'].mean():.0f}\")\n",
    "\n",
    "# Pekerjaan dengan approval rate tertinggi dan terendah\n",
    "best_job = approval_rate.idxmax()\n",
    "worst_job = approval_rate.idxmin()\n",
    "\n",
    "print(f\"\\n3. BERDASARKAN PEKERJAAN:\")\n",
    "print(f\"   - Approval rate tertinggi: {best_job} ({approval_rate[best_job]:.1f}%)\")\n",
    "print(f\"   - Approval rate terendah: {worst_job} ({approval_rate[worst_job]:.1f}%)\")\n",
    "\n",
    "print(f\"\\n4. INSIGHT AWAL:\")\n",
    "if approved['skor_kredit'].mean() > rejected['skor_kredit'].mean():\n",
    "    print(f\"   - Skor kredit tampak berpengaruh terhadap persetujuan\")\n",
    "if approved['pendapatan'].mean() > rejected['pendapatan'].mean():\n",
    "    print(f\"   - Pendapatan lebih tinggi cenderung lebih disetujui\")\n",
    "    \n",
    "print(f\"\\n5. LANGKAH SELANJUTNYA:\")\n",
    "print(f\"   - Analisis korelasi antar variabel\")\n",
    "print(f\"   - Preprocessing data (handling outlier, scaling)\")\n",
    "print(f\"   - Feature engineering\")\n",
    "print(f\"   - Modeling untuk prediksi\")"
   ]
  },
  {
   "cell_type": "markdown",
   "metadata": {
    "id": "cpgHfgnSK3ip"
   },
   "source": [
    "# **5. Data Preprocessing**"
   ]
  },
  {
   "cell_type": "markdown",
   "metadata": {
    "id": "COf8KUPXLg5r"
   },
   "source": [
    "Pada tahap ini, data preprocessing adalah langkah penting untuk memastikan kualitas data sebelum digunakan dalam model machine learning.\n",
    "\n",
    "Jika Anda menggunakan data teks, data mentah sering kali mengandung nilai kosong, duplikasi, atau rentang nilai yang tidak konsisten, yang dapat memengaruhi kinerja model. Oleh karena itu, proses ini bertujuan untuk membersihkan dan mempersiapkan data agar analisis berjalan optimal.\n",
    "\n",
    "Berikut adalah tahapan-tahapan yang bisa dilakukan, tetapi **tidak terbatas** pada:\n",
    "1. Menghapus atau Menangani Data Kosong (Missing Values)\n",
    "2. Menghapus Data Duplikat\n",
    "3. Normalisasi atau Standarisasi Fitur\n",
    "4. Deteksi dan Penanganan Outlier\n",
    "5. Encoding Data Kategorikal\n",
    "6. Binning (Pengelompokan Data)\n",
    "\n",
    "Cukup sesuaikan dengan karakteristik data yang kamu gunakan yah. Khususnya ketika kami menggunakan data tidak terstruktur."
   ]
  },
  {
   "cell_type": "markdown",
   "metadata": {},
   "source": [
    "### 1. INFORMASI DASAR DATASET"
   ]
  },
  {
   "cell_type": "code",
   "execution_count": 14,
   "metadata": {},
   "outputs": [
    {
     "name": "stdout",
     "output_type": "stream",
     "text": [
      "==================================================\n",
      "1. INFORMASI DASAR DATASET\n",
      "==================================================\n",
      "\n",
      "5 Data Terakhir:\n",
      "     umur  pekerjaan  pendapatan  skor_kredit  jumlah_pinjaman disetujui\n",
      "495    24  Freelance    18858340          637         33438135     Tidak\n",
      "496    56    Kontrak     4898225          671         20583748     Tidak\n",
      "497    46  Freelance    11078330          508         54647759     Tidak\n",
      "498    29    Kontrak     7592580          672         27069773     Tidak\n",
      "499    35      Tetap    14975567          804         16791427        Ya\n",
      "\n",
      "Informasi Detail Dataset:\n",
      "<class 'pandas.core.frame.DataFrame'>\n",
      "RangeIndex: 500 entries, 0 to 499\n",
      "Data columns (total 6 columns):\n",
      " #   Column           Non-Null Count  Dtype \n",
      "---  ------           --------------  ----- \n",
      " 0   umur             500 non-null    int64 \n",
      " 1   pekerjaan        500 non-null    object\n",
      " 2   pendapatan       500 non-null    int64 \n",
      " 3   skor_kredit      500 non-null    int64 \n",
      " 4   jumlah_pinjaman  500 non-null    int64 \n",
      " 5   disetujui        500 non-null    object\n",
      "dtypes: int64(4), object(2)\n",
      "memory usage: 23.6+ KB\n",
      "None\n"
     ]
    }
   ],
   "source": [
    "print(\"=\"*50)\n",
    "print(\"1. INFORMASI DASAR DATASET\")\n",
    "print(\"=\"*50)\n",
    "\n",
    "# Tampilkan 5 data terakhir\n",
    "print(\"\\n5 Data Terakhir:\")\n",
    "print(df.tail())\n",
    "\n",
    "# Info detail dataset\n",
    "print(\"\\nInformasi Detail Dataset:\")\n",
    "print(df.info())"
   ]
  },
  {
   "cell_type": "markdown",
   "metadata": {},
   "source": [
    "### 2. PEMBERSIHAN DATA"
   ]
  },
  {
   "cell_type": "markdown",
   "metadata": {},
   "source": [
    "Pada tahap ini dilakukan pengecekan apakah ada Missing Value dan jika ditemukan akan dilakukan penanganan lebih lanjut."
   ]
  },
  {
   "cell_type": "code",
   "execution_count": 17,
   "metadata": {},
   "outputs": [
    {
     "name": "stdout",
     "output_type": "stream",
     "text": [
      "\n",
      "==================================================\n",
      "DATA CLEANING\n",
      "==================================================\n",
      "Missing values sebelum cleaning:\n",
      "umur               0\n",
      "pekerjaan          0\n",
      "pendapatan         0\n",
      "skor_kredit        0\n",
      "jumlah_pinjaman    0\n",
      "disetujui          0\n",
      "dtype: int64\n",
      "✓ Tidak ada missing values\n",
      "✓ Tidak ada data duplikat\n",
      "\n",
      "Setelah cleaning:\n",
      "  Shape: (500, 6)\n",
      "  Missing values: 0\n"
     ]
    }
   ],
   "source": [
    "print(\"\\n\" + \"=\"*50)\n",
    "print(\"DATA CLEANING\")\n",
    "print(\"=\"*50)\n",
    "\n",
    "# Cek missing values\n",
    "print(\"Missing values sebelum cleaning:\")\n",
    "print(df.isnull().sum())\n",
    "\n",
    "# Handle missing values (jika ada)\n",
    "if df.isnull().sum().sum() > 0:\n",
    "    print(\"\\nMenangani missing values...\")\n",
    "    # Untuk numerik: isi dengan median\n",
    "    numeric_cols = ['umur', 'pendapatan', 'skor_kredit', 'jumlah_pinjaman']\n",
    "    for col in numeric_cols:\n",
    "        if df[col].isnull().sum() > 0:\n",
    "            df[col].fillna(df[col].median(), inplace=True)\n",
    "    \n",
    "    # Untuk kategorikal: isi dengan modus\n",
    "    categorical_cols = ['pekerjaan', 'disetujui']\n",
    "    for col in categorical_cols:\n",
    "        if df[col].isnull().sum() > 0:\n",
    "            df[col].fillna(df[col].mode()[0], inplace=True)\n",
    "else:\n",
    "    print(\"✓ Tidak ada missing values\")\n",
    "\n",
    "# Cek dan hapus duplikasi\n",
    "duplicates = df.duplicated().sum()\n",
    "if duplicates > 0:\n",
    "    print(f\"\\nMenghapus {duplicates} baris duplikat...\")\n",
    "    df = df.drop_duplicates()\n",
    "else:\n",
    "    print(\"✓ Tidak ada data duplikat\")\n",
    "\n",
    "print(f\"\\nSetelah cleaning:\")\n",
    "print(f\"  Shape: {df.shape}\")\n",
    "print(f\"  Missing values: {df.isnull().sum().sum()}\")"
   ]
  },
  {
   "cell_type": "markdown",
   "metadata": {},
   "source": [
    "### 3. OUTLIER DETECTION DAN HANDLING"
   ]
  },
  {
   "cell_type": "markdown",
   "metadata": {},
   "source": [
    "Pada tahap ini dilakukan deteksi dan penanganan outlier untuk memastikan kualitas data yang optimal sebelum digunakan dalam pemodelan. Metode yang digunakan adalah Interquartile Range (IQR), yang mendeteksi nilai-nilai ekstrem di bawah batas bawah (Q1 - 1.5IQR) dan di atas batas atas (Q3 + 1.5IQR) pada setiap kolom numerik seperti umur, pendapatan, skor kredit, dan jumlah pinjaman. Setelah mengidentifikasi jumlah dan persentase outlier pada masing-masing kolom, dilakukan visualisasi melalui boxplot untuk menggambarkan keberadaan outlier. Penanganan dilakukan menggunakan metode capping (winsorization), yaitu mengganti nilai outlier dengan batas bawah atau atas yang sesuai. Hasilnya, dataset menjadi lebih bersih dan siap digunakan untuk proses analisis atau pelatihan model selanjutnya."
   ]
  },
  {
   "cell_type": "code",
   "execution_count": 18,
   "metadata": {},
   "outputs": [
    {
     "name": "stdout",
     "output_type": "stream",
     "text": [
      "\n",
      "==================================================\n",
      "OUTLIER DETECTION & HANDLING\n",
      "==================================================\n",
      "Deteksi outlier per kolom:\n",
      "  umur: 0 outliers (0.0%)\n",
      "  pendapatan: 0 outliers (0.0%)\n",
      "  skor_kredit: 0 outliers (0.0%)\n",
      "  jumlah_pinjaman: 0 outliers (0.0%)\n"
     ]
    },
    {
     "data": {
      "image/png": "[encoded data removed]",
      "text/plain": [
       "<Figure size 1500x1000 with 4 Axes>"
      ]
     },
     "metadata": {},
     "output_type": "display_data"
    },
    {
     "name": "stdout",
     "output_type": "stream",
     "text": [
      "\n",
      "Menangani outlier dengan metode capping...\n",
      "✓ Outlier handling selesai (metode: capping)\n"
     ]
    }
   ],
   "source": [
    "# ===============================================\n",
    "# 3. OUTLIER DETECTION DAN HANDLING\n",
    "# ===============================================\n",
    "\n",
    "print(\"\\n\" + \"=\"*50)\n",
    "print(\"OUTLIER DETECTION & HANDLING\")\n",
    "print(\"=\"*50)\n",
    "\n",
    "# Fungsi untuk deteksi outlier menggunakan IQR\n",
    "def detect_outliers_iqr(data, column):\n",
    "    Q1 = data[column].quantile(0.25)\n",
    "    Q3 = data[column].quantile(0.75)\n",
    "    IQR = Q3 - Q1\n",
    "    lower_bound = Q1 - 1.5 * IQR\n",
    "    upper_bound = Q3 + 1.5 * IQR\n",
    "    outliers = data[(data[column] < lower_bound) | (data[column] > upper_bound)]\n",
    "    return outliers, lower_bound, upper_bound\n",
    "\n",
    "# Deteksi outlier untuk setiap kolom numerik\n",
    "numeric_cols = ['umur', 'pendapatan', 'skor_kredit', 'jumlah_pinjaman']\n",
    "outlier_summary = {}\n",
    "\n",
    "print(\"Deteksi outlier per kolom:\")\n",
    "for col in numeric_cols:\n",
    "    outliers, lower, upper = detect_outliers_iqr(df, col)\n",
    "    outlier_count = len(outliers)\n",
    "    outlier_percentage = (outlier_count / len(df)) * 100\n",
    "    outlier_summary[col] = {\n",
    "        'count': outlier_count,\n",
    "        'percentage': outlier_percentage,\n",
    "        'lower_bound': lower,\n",
    "        'upper_bound': upper\n",
    "    }\n",
    "    print(f\"  {col}: {outlier_count} outliers ({outlier_percentage:.1f}%)\")\n",
    "\n",
    "# Visualisasi outlier sebelum handling\n",
    "fig, axes = plt.subplots(2, 2, figsize=(15, 10))\n",
    "fig.suptitle('Deteksi Outlier - Sebelum Cleaning', fontsize=16)\n",
    "\n",
    "for i, col in enumerate(numeric_cols):\n",
    "    row = i // 2\n",
    "    col_idx = i % 2\n",
    "    \n",
    "    axes[row, col_idx].boxplot(df[col])\n",
    "    axes[row, col_idx].set_title(f'Outlier {col.title()}')\n",
    "    axes[row, col_idx].set_ylabel(col.title())\n",
    "\n",
    "plt.tight_layout()\n",
    "plt.show()\n",
    "\n",
    "# Handle outlier menggunakan capping (winsorization)\n",
    "df_no_outliers = df.copy()\n",
    "\n",
    "print(f\"\\nMenangani outlier dengan metode capping...\")\n",
    "for col in numeric_cols:\n",
    "    if outlier_summary[col]['count'] > 0:\n",
    "        lower_bound = outlier_summary[col]['lower_bound']\n",
    "        upper_bound = outlier_summary[col]['upper_bound']\n",
    "        \n",
    "        # Capping: ganti nilai outlier dengan batas\n",
    "        df_no_outliers[col] = np.where(df_no_outliers[col] < lower_bound, lower_bound, df_no_outliers[col])\n",
    "        df_no_outliers[col] = np.where(df_no_outliers[col] > upper_bound, upper_bound, df_no_outliers[col])\n",
    "\n",
    "print(\"✓ Outlier handling selesai (metode: capping)\")"
   ]
  },
  {
   "cell_type": "markdown",
   "metadata": {},
   "source": [
    "### 4. FEATURE ENGINEERING"
   ]
  },
  {
   "cell_type": "markdown",
   "metadata": {},
   "source": [
    "Pada tahap ini dilakukan feature engineering untuk memperkaya informasi dalam dataset yang telah dibersihkan dari outlier. Empat fitur baru ditambahkan: (1) rasio_pinjaman_pendapatan yang menggambarkan seberapa besar pinjaman dibandingkan dengan pendapatan, (2) kategori_umur yang membagi umur menjadi kelompok Muda, Dewasa, dan Senior, (3) kategori_skor_kredit yang mengelompokkan skor kredit ke dalam tingkatan Poor, Fair, Good, dan Excellent, serta (4) kategori_pendapatan yang mengklasifikasikan pendapatan menjadi Rendah, Sedang, dan Tinggi berdasarkan distribusi kuantil. Penambahan fitur-fitur ini bertujuan untuk membantu model memahami pola yang lebih kompleks dalam data dan meningkatkan kualitas analisis prediktif."
   ]
  },
  {
   "cell_type": "code",
   "execution_count": 20,
   "metadata": {},
   "outputs": [
    {
     "name": "stdout",
     "output_type": "stream",
     "text": [
      "\n",
      "==================================================\n",
      "FEATURE ENGINEERING\n",
      "==================================================\n",
      "Feature baru yang dibuat:\n",
      "  1. rasio_pinjaman_pendapatan: Rasio jumlah pinjaman terhadap pendapatan\n",
      "  2. kategori_umur: Muda/Dewasa/Senior\n",
      "  3. kategori_skor_kredit: Poor/Fair/Good/Excellent\n",
      "  4. kategori_pendapatan: Rendah/Sedang/Tinggi\n",
      "\n",
      "Dataset setelah feature engineering:\n",
      "  Shape: (500, 10)\n",
      "  New columns: ['rasio_pinjaman_pendapatan', 'kategori_umur', 'kategori_skor_kredit', 'kategori_pendapatan']\n"
     ]
    }
   ],
   "source": [
    "print(\"\\n\" + \"=\"*50)\n",
    "print(\"FEATURE ENGINEERING\")\n",
    "print(\"=\"*50)\n",
    "\n",
    "# Buat dataset untuk feature engineering\n",
    "df_engineered = df_no_outliers.copy()\n",
    "\n",
    "# 1. Rasio Pinjaman terhadap Pendapatan\n",
    "df_engineered['rasio_pinjaman_pendapatan'] = df_engineered['jumlah_pinjaman'] / df_engineered['pendapatan']\n",
    "\n",
    "# 2. Kategori Umur\n",
    "def categorize_age(age):\n",
    "    if age < 30:\n",
    "        return 'Muda'\n",
    "    elif age < 50:\n",
    "        return 'Dewasa'\n",
    "    else:\n",
    "        return 'Senior'\n",
    "\n",
    "df_engineered['kategori_umur'] = df_engineered['umur'].apply(categorize_age)\n",
    "\n",
    "# 3. Kategori Skor Kredit\n",
    "def categorize_credit_score(score):\n",
    "    if score < 600:\n",
    "        return 'Poor'\n",
    "    elif score < 700:\n",
    "        return 'Fair'\n",
    "    elif score < 800:\n",
    "        return 'Good'\n",
    "    else:\n",
    "        return 'Excellent'\n",
    "\n",
    "df_engineered['kategori_skor_kredit'] = df_engineered['skor_kredit'].apply(categorize_credit_score)\n",
    "\n",
    "# 4. Kategori Pendapatan\n",
    "df_engineered['kategori_pendapatan'] = pd.qcut(df_engineered['pendapatan'], \n",
    "                                              q=3, labels=['Rendah', 'Sedang', 'Tinggi'])\n",
    "\n",
    "print(\"Feature baru yang dibuat:\")\n",
    "print(\"  1. rasio_pinjaman_pendapatan: Rasio jumlah pinjaman terhadap pendapatan\")\n",
    "print(\"  2. kategori_umur: Muda/Dewasa/Senior\")\n",
    "print(\"  3. kategori_skor_kredit: Poor/Fair/Good/Excellent\")\n",
    "print(\"  4. kategori_pendapatan: Rendah/Sedang/Tinggi\")\n",
    "\n",
    "print(f\"\\nDataset setelah feature engineering:\")\n",
    "print(f\"  Shape: {df_engineered.shape}\")\n",
    "print(f\"  New columns: {[col for col in df_engineered.columns if col not in df.columns]}\")\n"
   ]
  },
  {
   "cell_type": "markdown",
   "metadata": {},
   "source": [
    "### 5. ENCODING CATEGORICAL VARIABLES"
   ]
  },
  {
   "cell_type": "markdown",
   "metadata": {},
   "source": [
    "Pada tahap ini dilakukan proses encoding untuk mengubah variabel kategorikal menjadi format numerik agar dapat diproses oleh algoritma machine learning. Pertama, dilakukan Label Encoding pada variabel target disetujui, di mana nilai 'Tidak' diubah menjadi 0 dan 'Ya' menjadi 1.\n",
    "\n",
    "Selanjutnya, dilakukan One-Hot Encoding terhadap fitur kategorikal:\n",
    "\n",
    "- pekerjaan\n",
    "- kategori_umur\n",
    "- kategori_skor_kredit\n",
    "- kategori_pendapatan\n",
    "\n",
    "Proses ini menghasilkan kolom baru untuk setiap kategori unik pada fitur tersebut, dengan nilai biner 0 atau 1. Hasilnya, jumlah kolom bertambah dari sebelumnya, yang mencerminkan representasi numerik dari data kategorikal tanpa urutan. Proses encoding ini penting agar model tidak mengasumsikan adanya hubungan ordinal antara kategori yang sebenarnya bersifat nominal."
   ]
  },
  {
   "cell_type": "code",
   "execution_count": 23,
   "metadata": {},
   "outputs": [
    {
     "name": "stdout",
     "output_type": "stream",
     "text": [
      "\n",
      "==================================================\n",
      "ENCODING CATEGORICAL VARIABLES\n",
      "==================================================\n",
      "Label Encoding untuk target variable:\n",
      "  Tidak -> 0\n",
      "  Ya -> 1\n",
      "\n",
      "One-Hot Encoding untuk categorical features:\n",
      "  Kolom sebelum encoding: 10\n",
      "  Kolom setelah encoding: 20\n"
     ]
    }
   ],
   "source": [
    "\n",
    "print(\"\\n\" + \"=\"*50)\n",
    "print(\"ENCODING CATEGORICAL VARIABLES\")\n",
    "print(\"=\"*50)\n",
    "\n",
    "# Buat dataset untuk encoding\n",
    "df_encoded = df_engineered.copy()\n",
    "\n",
    "# Label Encoding untuk target variable\n",
    "label_encoder = LabelEncoder()\n",
    "df_encoded['disetujui_encoded'] = label_encoder.fit_transform(df_encoded['disetujui'])\n",
    "\n",
    "print(\"Label Encoding untuk target variable:\")\n",
    "print(f\"  Tidak -> 0\")\n",
    "print(f\"  Ya -> 1\")\n",
    "\n",
    "# One-Hot Encoding untuk categorical features\n",
    "categorical_features = ['pekerjaan', 'kategori_umur', 'kategori_skor_kredit', 'kategori_pendapatan']\n",
    "\n",
    "print(f\"\\nOne-Hot Encoding untuk categorical features:\")\n",
    "df_encoded = pd.get_dummies(df_encoded, columns=categorical_features, prefix=categorical_features)\n",
    "\n",
    "print(f\"  Kolom sebelum encoding: {len(df_engineered.columns)}\")\n",
    "print(f\"  Kolom setelah encoding: {len(df_encoded.columns)}\")"
   ]
  },
  {
   "cell_type": "markdown",
   "metadata": {},
   "source": [
    "### 6. FEATURE SCALING"
   ]
  },
  {
   "cell_type": "markdown",
   "metadata": {},
   "source": [
    "Pada tahap ini dilakukan proses feature scaling untuk memastikan bahwa semua fitur numerik berada dalam skala yang sebanding. Scaling dilakukan dengan metode StandardScaler, yaitu standardisasi menggunakan Z-score normalization (mean = 0, standar deviasi = 1). Fitur-fitur yang di-scale meliputi:\n",
    "\n",
    "- umur\n",
    "- pendapatan\n",
    "- skor_kredit\n",
    "- jumlah_pinjaman\n",
    "- rasio_pinjaman_pendapatan\n",
    "\n",
    "Langkah ini penting untuk menghindari dominasi fitur dengan nilai besar terhadap model pembelajaran mesin, serta mempercepat proses konvergensi algoritma berbasis gradient descent. Proses scaling telah berhasil dilakukan dan dataset siap digunakan untuk modeling."
   ]
  },
  {
   "cell_type": "code",
   "execution_count": 24,
   "metadata": {},
   "outputs": [
    {
     "name": "stdout",
     "output_type": "stream",
     "text": [
      "\n",
      "==================================================\n",
      "FEATURE SCALING\n",
      "==================================================\n",
      "Feature scaling menggunakan StandardScaler:\n",
      "  Features yang di-scale: ['umur', 'pendapatan', 'skor_kredit', 'jumlah_pinjaman', 'rasio_pinjaman_pendapatan']\n",
      "✓ Scaling selesai\n"
     ]
    }
   ],
   "source": [
    "print(\"\\n\" + \"=\"*50)\n",
    "print(\"FEATURE SCALING\")\n",
    "print(\"=\"*50)\n",
    "\n",
    "# Buat dataset final\n",
    "df_final = df_encoded.copy()\n",
    "\n",
    "# Identifikasi kolom numerik yang perlu di-scale\n",
    "numeric_features = ['umur', 'pendapatan', 'skor_kredit', 'jumlah_pinjaman', 'rasio_pinjaman_pendapatan']\n",
    "\n",
    "# Standardization (Z-score normalization)\n",
    "scaler = StandardScaler()\n",
    "df_final[numeric_features] = scaler.fit_transform(df_final[numeric_features])\n",
    "\n",
    "print(\"Feature scaling menggunakan StandardScaler:\")\n",
    "print(f\"  Features yang di-scale: {numeric_features}\")\n",
    "print(\"✓ Scaling selesai\")"
   ]
  },
  {
   "cell_type": "markdown",
   "metadata": {},
   "source": [
    "### 7. DATASET FINAL DAN SUMMARY"
   ]
  },
  {
   "cell_type": "markdown",
   "metadata": {},
   "source": [
    "Pada tahap akhir ini, disusun dataset final yang telah melalui proses pembersihan, feature engineering, encoding, dan scaling. Kolom disetujui dihapus karena sudah diwakili oleh versi numeriknya, yaitu disetujui_encoded. Dataset kemudian dipisahkan menjadi dua bagian utama:\n",
    "\n",
    "- Features (X): Berisi seluruh fitur prediktor yang akan digunakan dalam pelatihan model.\n",
    "- Target (y): Berisi label disetujui_encoded sebagai variabel target yang akan diprediksi.\n",
    "\n",
    "Dataset akhir ini disimpan dalam variabel df_clean dengan dimensi lengkap yang siap digunakan untuk tahap modeling machine learning selanjutnya. Seluruh kolom yang relevan telah terstruktur dengan baik dan siap digunakan dalam proses pelatihan model klasifikasi."
   ]
  },
  {
   "cell_type": "code",
   "execution_count": 28,
   "metadata": {},
   "outputs": [
    {
     "name": "stdout",
     "output_type": "stream",
     "text": [
      "\n",
      "==================================================\n",
      "DATASET FINAL\n",
      "==================================================\n",
      "Dataset final berhasil dibuat:\n",
      "  Nama dataset: df_clean\n",
      "  Shape: (500, 19)\n",
      "  Features (X): (500, 18)\n",
      "  Target (y): (500,)\n",
      "\n",
      "Kolom di dataset final:\n",
      "   1. umur\n",
      "   2. pendapatan\n",
      "   3. skor_kredit\n",
      "   4. jumlah_pinjaman\n",
      "   5. rasio_pinjaman_pendapatan\n",
      "   6. disetujui_encoded\n",
      "   7. pekerjaan_Freelance\n",
      "   8. pekerjaan_Kontrak\n",
      "   9. pekerjaan_Tetap\n",
      "  10. kategori_umur_Dewasa\n",
      "  11. kategori_umur_Muda\n",
      "  12. kategori_umur_Senior\n",
      "  13. kategori_skor_kredit_Excellent\n",
      "  14. kategori_skor_kredit_Fair\n",
      "  15. kategori_skor_kredit_Good\n",
      "  16. kategori_skor_kredit_Poor\n",
      "  17. kategori_pendapatan_Rendah\n",
      "  18. kategori_pendapatan_Sedang\n",
      "  19. kategori_pendapatan_Tinggi\n"
     ]
    }
   ],
   "source": [
    "print(\"\\n\" + \"=\"*50)\n",
    "print(\"DATASET FINAL\")\n",
    "print(\"=\"*50)\n",
    "\n",
    "# Buat dataset final yang clean\n",
    "# Hapus kolom yang tidak diperlukan\n",
    "columns_to_drop = ['disetujui']  # Kita pakai yang encoded\n",
    "df_clean = df_final.drop(columns=columns_to_drop)\n",
    "\n",
    "# Pisahkan features dan target\n",
    "X = df_clean.drop(['disetujui_encoded'], axis=1)\n",
    "y = df_clean['disetujui_encoded']\n",
    "\n",
    "print(\"Dataset final berhasil dibuat:\")\n",
    "print(f\"  Nama dataset: df_clean\")\n",
    "print(f\"  Shape: {df_clean.shape}\")\n",
    "print(f\"  Features (X): {X.shape}\")\n",
    "print(f\"  Target (y): {y.shape}\")\n",
    "\n",
    "print(f\"\\nKolom di dataset final:\")\n",
    "for i, col in enumerate(df_clean.columns, 1):\n",
    "    print(f\"  {i:2d}. {col}\")"
   ]
  },
  {
   "cell_type": "markdown",
   "metadata": {},
   "source": [
    "### 8. TRAIN-TEST SPLIT"
   ]
  },
  {
   "cell_type": "markdown",
   "metadata": {},
   "source": [
    "Pada tahap ini dilakukan proses Train-Test Split, yaitu membagi dataset menjadi dua bagian utama: data pelatihan (training set) dan data pengujian (test set) dengan perbandingan 80:20. Teknik stratified sampling digunakan untuk memastikan distribusi label target (disetujui_encoded) tetap seimbang di kedua subset. Hasilnya, X_train dan y_train digunakan untuk melatih model, sementara X_test dan y_test digunakan untuk mengevaluasi performa model secara adil dan representatif terhadap data baru. Distribusi target pada kedua subset juga ditampilkan untuk memverifikasi keseimbangan kelas."
   ]
  },
  {
   "cell_type": "code",
   "execution_count": 29,
   "metadata": {},
   "outputs": [
    {
     "name": "stdout",
     "output_type": "stream",
     "text": [
      "\n",
      "==================================================\n",
      "TRAIN-TEST SPLIT\n",
      "==================================================\n",
      "Dataset di-split menjadi:\n",
      "  X_train: (400, 18)\n",
      "  X_test: (100, 18)\n",
      "  y_train: (400,)\n",
      "  y_test: (100,)\n",
      "\n",
      "Distribusi target di training set:\n",
      "disetujui_encoded\n",
      "1    0.5075\n",
      "0    0.4925\n",
      "Name: proportion, dtype: float64\n",
      "\n",
      "Distribusi target di test set:\n",
      "disetujui_encoded\n",
      "1    0.51\n",
      "0    0.49\n",
      "Name: proportion, dtype: float64\n"
     ]
    }
   ],
   "source": [
    "print(\"\\n\" + \"=\"*50)\n",
    "print(\"TRAIN-TEST SPLIT\")\n",
    "print(\"=\"*50)\n",
    "\n",
    "# Split dataset untuk training dan testing\n",
    "X_train, X_test, y_train, y_test = train_test_split(\n",
    "    X, y, test_size=0.2, random_state=42, stratify=y\n",
    ")\n",
    "\n",
    "print(\"Dataset di-split menjadi:\")\n",
    "print(f\"  X_train: {X_train.shape}\")\n",
    "print(f\"  X_test: {X_test.shape}\")\n",
    "print(f\"  y_train: {y_train.shape}\")\n",
    "print(f\"  y_test: {y_test.shape}\")\n",
    "\n",
    "print(f\"\\nDistribusi target di training set:\")\n",
    "print(y_train.value_counts(normalize=True))\n",
    "\n",
    "print(f\"\\nDistribusi target di test set:\")\n",
    "print(y_test.value_counts(normalize=True))\n"
   ]
  },
  {
   "cell_type": "markdown",
   "metadata": {},
   "source": [
    "### 9. SUMMARY PREPROCESSING"
   ]
  },
  {
   "cell_type": "code",
   "execution_count": 31,
   "metadata": {},
   "outputs": [
    {
     "name": "stdout",
     "output_type": "stream",
     "text": [
      "\n",
      "==================================================\n",
      "SUMMARY PREPROCESSING\n",
      "==================================================\n",
      "TRANSFORMASI DATASET:\n",
      "  Dataset asli: (500, 6)\n",
      "  Setelah cleaning: (500, 6)\n",
      "  Setelah outlier handling: (500, 6)\n",
      "  Setelah feature engineering: (500, 10)\n",
      "  Setelah encoding: (500, 20)\n",
      "  Dataset final: (500, 19)\n",
      "\n",
      "FEATURE YANG DIBUAT:\n",
      "  - rasio_pinjaman_pendapatan (numerik)\n",
      "  - kategori_umur (categorical -> one-hot)\n",
      "  - kategori_skor_kredit (categorical -> one-hot)\n",
      "  - kategori_pendapatan (categorical -> one-hot)\n",
      "\n",
      "PREPROCESSING YANG DILAKUKAN:\n",
      "  ✓ Data cleaning (missing values & duplicates)\n",
      "  ✓ Outlier handling (capping method)\n",
      "  ✓ Feature engineering (4 feature baru)\n",
      "  ✓ Categorical encoding (label + one-hot)\n",
      "  ✓ Feature scaling (standardization)\n",
      "  ✓ Train-test split (80/20)\n",
      "\n",
      "DATASET SIAP UNTUK:\n",
      "  - Machine Learning Modeling\n",
      "  - Cross Validation\n",
      "  - Feature Selection\n",
      "  - Model Evaluation\n"
     ]
    }
   ],
   "source": [
    "print(\"\\n\" + \"=\"*50)\n",
    "print(\"SUMMARY PREPROCESSING\")\n",
    "print(\"=\"*50)\n",
    "\n",
    "print(f\"TRANSFORMASI DATASET:\")\n",
    "print(f\"  Dataset asli: {df.shape}\")\n",
    "print(f\"  Setelah cleaning: {df.shape}\")\n",
    "print(f\"  Setelah outlier handling: {df_no_outliers.shape}\")\n",
    "print(f\"  Setelah feature engineering: {df_engineered.shape}\")\n",
    "print(f\"  Setelah encoding: {df_encoded.shape}\")\n",
    "print(f\"  Dataset final: {df_clean.shape}\")\n",
    "\n",
    "print(f\"\\nFEATURE YANG DIBUAT:\")\n",
    "print(f\"  - rasio_pinjaman_pendapatan (numerik)\")\n",
    "print(f\"  - kategori_umur (categorical -> one-hot)\")\n",
    "print(f\"  - kategori_skor_kredit (categorical -> one-hot)\")\n",
    "print(f\"  - kategori_pendapatan (categorical -> one-hot)\")\n",
    "\n",
    "print(f\"\\nPREPROCESSING YANG DILAKUKAN:\")\n",
    "print(f\"  ✓ Data cleaning (missing values & duplicates)\")\n",
    "print(f\"  ✓ Outlier handling (capping method)\")\n",
    "print(f\"  ✓ Feature engineering (4 feature baru)\")\n",
    "print(f\"  ✓ Categorical encoding (label + one-hot)\")\n",
    "print(f\"  ✓ Feature scaling (standardization)\")\n",
    "print(f\"  ✓ Train-test split (80/20)\")\n",
    "\n",
    "print(f\"\\nDATASET SIAP UNTUK:\")\n",
    "print(f\"  - Machine Learning Modeling\")\n",
    "print(f\"  - Cross Validation\")\n",
    "print(f\"  - Feature Selection\")\n",
    "print(f\"  - Model Evaluation\")"
   ]
  },
  {
   "cell_type": "markdown",
   "metadata": {},
   "source": [
    "### 10. SAVE DATASET"
   ]
  },
  {
   "cell_type": "code",
   "execution_count": 34,
   "metadata": {},
   "outputs": [
    {
     "name": "stdout",
     "output_type": "stream",
     "text": [
      "\n",
      "MENYIMPAN DATASET...\n",
      "✓ Dataset berhasil disimpan:\n",
      "  - dataset_kredit_preprocessed.csv (dataset lengkap)\n",
      "  - X_train.csv, X_test.csv (features)\n",
      "  - y_train.csv, y_test.csv (target)\n",
      "\n",
      "==================================================\n",
      "PREPROCESSING SELESAI!\n",
      "==================================================\n",
      "\n",
      "Sample dataset final (5 baris pertama):\n",
      "       umur  pendapatan  skor_kredit  jumlah_pinjaman  rasio_pinjaman_pendapatan  disetujui_encoded  pekerjaan_Freelance  pekerjaan_Kontrak  pekerjaan_Tetap  kategori_umur_Dewasa  kategori_umur_Muda  kategori_umur_Senior  kategori_skor_kredit_Excellent  kategori_skor_kredit_Fair  kategori_skor_kredit_Good  kategori_skor_kredit_Poor  kategori_pendapatan_Rendah  kategori_pendapatan_Sedang  kategori_pendapatan_Tinggi\n",
      "0  0.020680   -0.260176    -0.549139        -1.409600                  -0.829286                  1                False               True            False                  True               False                 False                           False                       True                      False                      False                       False                        True                       False\n",
      "1  0.106133   -0.495720     1.019095        -0.791419                  -0.434478                  1                False              False             True                  True               False                 False                           False                      False                       True                      False                       False                        True                       False\n",
      "2  0.277040   -0.301522     1.147830        -0.679152                  -0.471769                  1                False              False             True                  True               False                 False                           False                      False                       True                      False                       False                        True                       False\n",
      "3 -1.517482   -0.841912     1.721289        -0.043401                   0.287750                  0                False              False             True                 False                True                 False                            True                      False                      False                      False                        True                       False                       False\n",
      "4  1.131574   -1.517141     0.117945        -1.100665                   0.481906                  0                 True              False            False                 False               False                  True                           False                       True                      False                      False                        True                       False                       False\n"
     ]
    }
   ],
   "source": [
    "print(f\"\\nMENYIMPAN DATASET...\")\n",
    "\n",
    "import os\n",
    "\n",
    "# Buat subdirektori jika belum ada\n",
    "output_dir = 'final_dataset'\n",
    "os.makedirs(output_dir, exist_ok=True)\n",
    "\n",
    "# Simpan dataset yang sudah dipreprocess\n",
    "df_clean.to_csv('dataset_kredit_preprocessed.csv', index=False)\n",
    "X_train.to_csv(f'{output_dir}/X_train.csv', index=False)\n",
    "X_test.to_csv(f'{output_dir}/X_test.csv', index=False)\n",
    "y_train.to_csv(f'{output_dir}/y_train.csv', index=False)\n",
    "y_test.to_csv(f'{output_dir}/y_test.csv', index=False)\n",
    "\n",
    "print(f\"✓ Dataset berhasil disimpan:\")\n",
    "print(f\"  - dataset_kredit_preprocessed.csv (dataset lengkap)\")\n",
    "print(f\"  - X_train.csv, X_test.csv (features)\")\n",
    "print(f\"  - y_train.csv, y_test.csv (target)\")\n",
    "\n",
    "print(\"\\n\" + \"=\"*50)\n",
    "print(\"PREPROCESSING SELESAI!\")\n",
    "print(\"=\"*50)\n",
    "\n",
    "# Tampilkan sample data final\n",
    "print(f\"\\nSample dataset final (5 baris pertama):\")\n",
    "print(df_clean.head())"
   ]
  }
 ],
 "metadata": {
  "accelerator": "GPU",
  "colab": {
   "gpuType": "T4",
   "provenance": []
  },
  "kernelspec": {
   "display_name": "Python 3 (ipykernel)",
   "language": "python",
   "name": "python3"
  },
  "language_info": {
   "codemirror_mode": {
    "name": "ipython",
    "version": 3
   },
   "file_extension": ".py",
   "mimetype": "text/x-python",
   "name": "python",
   "nbconvert_exporter": "python",
   "pygments_lexer": "ipython3",
   "version": "3.12.10"
  }
 },
 "nbformat": 4,
 "nbformat_minor": 4
}
